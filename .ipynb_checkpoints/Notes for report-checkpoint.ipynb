{
 "cells": [
  {
   "cell_type": "markdown",
   "id": "210e38b83b5e1403",
   "metadata": {},
   "source": [
    "# Notes for report - approach\n",
    "\n",
    "1. Updaloading the data and creating a datafrance in Pandas\n",
    "2. Explore the data visually: notice insconstencies and typos that can be corrected manually. Get the questions and related data types. Only 7 columns contain numerical values. Get basic info for each column e.g. % of missing values, number of unique values...\n",
    "3. Each column has the question as title. This is not convenient for programming. Renamed manually in Excel to shorter easy to identify names\n",
    "4. Data in each column is looked at to see if column should be kept based on domain knowledge/intuition, see how many values can be transformed into numerical values and which featuring engineering methods can be used\n",
    "5. Analysis of the rows. Some of them contain many empty data. It is necessary to identify with part are missing. Is it just the optional questions such as If you had mh issue.... which is fine or is it about the first general questions\n",
    "6. Manual transformation in Excel?\n",
    "7. Some cat to num?\n",
    "8. Evaluate the different featuring engineereing techniques  available to find the most suitable ones. First for numerical values"
   ]
  },
  {
   "cell_type": "markdown",
   "id": "4f6bfb9c-4220-412e-a177-980e368e20ae",
   "metadata": {},
   "source": [
    "# Analysis/visualisations to do\n",
    "\n",
    "## Snapshot of respondents\n",
    "1. Demographics e.g. bar chart with age distribution\n",
    "2. Work environnment\n",
    "3. MH and employers (current, previous): consequences, support available. Replace empty cells in previous employer questions with Not applicable to me\n",
    "\n",
    "## Analysis\n",
    "- MH issue vs demographic, work environnement\n",
    "- PH Vs MH perception"
   ]
  },
  {
   "cell_type": "markdown",
   "id": "d95959dc-d30c-4c5e-bcc4-87c3a2f23e3e",
   "metadata": {},
   "source": [
    "# Mistakes to correct\n",
    "- Column B with the dashes for thousands\n",
    "- A whole part of the survey is for people who had a previous employer. Need to be seprate?\n",
    "- "
   ]
  },
  {
   "cell_type": "markdown",
   "id": "ffcd16f5-f640-4205-a142-3708e2051f8f",
   "metadata": {},
   "source": [
    "# Potential visualisation\n",
    "- MH pb vs age/country/remote\n",
    "- Part about describing the respondents (age, remote, self-employed, tech cie...)"
   ]
  },
  {
   "cell_type": "markdown",
   "id": "53012d70-dd05-4b0a-a1a3-f117fd86d2c5",
   "metadata": {},
   "source": [
    "# Code to keep"
   ]
  },
  {
   "cell_type": "code",
   "execution_count": null,
   "id": "be2a4c90-e003-4afd-8577-f1085693687b",
   "metadata": {},
   "outputs": [],
   "source": [
    "percentages = df['self_employed'].value_counts(normalize=True) * 100\n",
    "print(f\"Percentage of self-employed: {percentages[1]:.2f}%\")\n",
    "print(f\"Percentage of employees: {percentages[0]:.2f}%\")"
   ]
  },
  {
   "cell_type": "code",
   "execution_count": null,
   "id": "a34dd216-7a03-47bd-99cd-f869d321ca35",
   "metadata": {},
   "outputs": [],
   "source": [
    "# List of columns you want to analyze\n",
    "binary_columns = ['self_employed', 'tech_organization', 'tech_IT_primary_role']\n",
    "\n",
    "# Loop through each column and calculate the percentage of 1s and 0s\n",
    "for col in binary_columns:\n",
    "    percentages = df[col].value_counts(normalize=True) * 100\n",
    "    print(f\"Column: {col}\")\n",
    "    print(f\"Percentage of yes: {percentages.get(1, 0):.2f}%\")\n",
    "    print(f\"Percentage of no: {percentages.get(0, 0):.2f}%\\n\")"
   ]
  }
 ],
 "metadata": {
  "kernelspec": {
   "display_name": "Python 3 (ipykernel)",
   "language": "python",
   "name": "python3"
  },
  "language_info": {
   "codemirror_mode": {
    "name": "ipython",
    "version": 3
   },
   "file_extension": ".py",
   "mimetype": "text/x-python",
   "name": "python",
   "nbconvert_exporter": "python",
   "pygments_lexer": "ipython3",
   "version": "3.12.1"
  }
 },
 "nbformat": 4,
 "nbformat_minor": 5
}
