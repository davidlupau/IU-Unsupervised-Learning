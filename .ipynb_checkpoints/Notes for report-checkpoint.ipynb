{
 "cells": [
  {
   "cell_type": "markdown",
   "id": "210e38b83b5e1403",
   "metadata": {},
   "source": [
    "# Notes for report\n",
    "\n",
    "1. Updaloading the data and creating a datafrance in Pandas\n",
    "2. Explore the data visually: notice insconstencies and typos that can be corrected manually.\n",
    "- Get the questions and related data types. Only 7 columns contain numerical values. "
   ]
  },
  {
   "cell_type": "markdown",
   "id": "d95959dc-d30c-4c5e-bcc4-87c3a2f23e3e",
   "metadata": {},
   "source": [
    "# Mistakes to correct\n",
    "- Column B with the dashes for thousands"
   ]
  }
 ],
 "metadata": {
  "kernelspec": {
   "display_name": "Python 3 (ipykernel)",
   "language": "python",
   "name": "python3"
  },
  "language_info": {
   "codemirror_mode": {
    "name": "ipython",
    "version": 3
   },
   "file_extension": ".py",
   "mimetype": "text/x-python",
   "name": "python",
   "nbconvert_exporter": "python",
   "pygments_lexer": "ipython3",
   "version": "3.12.1"
  }
 },
 "nbformat": 4,
 "nbformat_minor": 5
}
